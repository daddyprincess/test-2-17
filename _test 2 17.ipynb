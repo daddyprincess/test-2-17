{
 "cells": [
  {
   "cell_type": "markdown",
   "id": "43c7593d-53ac-4b9c-8c95-fdb92ae54555",
   "metadata": {},
   "source": [
    "## 1.fuctions"
   ]
  },
  {
   "cell_type": "code",
   "execution_count": 1,
   "id": "2a851043-9cee-421a-a197-e18d08386590",
   "metadata": {},
   "outputs": [
    {
     "name": "stdout",
     "output_type": "stream",
     "text": [
      "[2, 4, 6, 8, 10]\n"
     ]
    }
   ],
   "source": [
    "def get_even_numbers(numbers):\n",
    "    return [num for num in numbers if num % 2 == 0]\n",
    "\n",
    "input_list = [1, 2, 3, 4, 5, 6, 7, 8, 9, 10]\n",
    "output_list = get_even_numbers(input_list)\n",
    "print(output_list)\n"
   ]
  }
 ],
 "metadata": {
  "kernelspec": {
   "display_name": "Python 3 (ipykernel)",
   "language": "python",
   "name": "python3"
  },
  "language_info": {
   "codemirror_mode": {
    "name": "ipython",
    "version": 3
   },
   "file_extension": ".py",
   "mimetype": "text/x-python",
   "name": "python",
   "nbconvert_exporter": "python",
   "pygments_lexer": "ipython3",
   "version": "3.10.8"
  }
 },
 "nbformat": 4,
 "nbformat_minor": 5
}
